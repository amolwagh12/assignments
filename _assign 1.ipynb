{
 "cells": [
  {
   "cell_type": "markdown",
   "id": "5d71a6c0-eda9-4d77-95f8-c76b9b607f38",
   "metadata": {},
   "source": [
    "1. Who dwveloped python programming language.\n",
    "Ans--\n",
    "Python programming language was developed by Guido van Rossum, a Dutch programmer, in the late 1980s. Van Rossum started working on Python in December 1989, and released the first version, version 0.9.0, in February 1991. Since then, Python has evolved into a popular programming language used for a wide range of applications, including web development, data analysis, machine learning, and scientific computing."
   ]
  },
  {
   "cell_type": "markdown",
   "id": "bd151127-c672-4dba-9d9b-b01a666a274f",
   "metadata": {},
   "source": [
    "2. what type of programming does python support\n",
    "Ans--\n",
    "1.Procedural programming: Python supports traditional procedural programming, which involves breaking a program down into smaller, reusable functions.\n",
    "\n",
    "2.Object-oriented programming: Python supports object-oriented programming, where you can create and define classes and objects.\n",
    "\n",
    "3.Functional programming: Python supports functional programming, where functions are treated as first-class objects and can be passed as arguments to other functions."
   ]
  },
  {
   "cell_type": "markdown",
   "id": "b098279f-2c71-444d-8554-360b91a0fa82",
   "metadata": {},
   "source": [
    "3. Is python is a case sensetive when dealing with identifiers.\n",
    "Ans-- Yes, Python is a case-sensitive language when dealing with identifiers. Identifiers are names given to variables,\n",
    "       functions, classes, or other objects in a program.\n",
    "       \n",
    "       example--\n",
    "       my_Variable=42\n",
    "       my_variable=\"Hello\"\n",
    "       \n",
    "       print(my_Variable)  ##42\n",
    "       print(my_variable)  ##Hello\n",
    "       "
   ]
  },
  {
   "cell_type": "markdown",
   "id": "6ec9e16f-601e-4a83-a42e-b6be53d10f3d",
   "metadata": {},
   "source": [
    "4. What is the correct extension of the python file\n",
    "Ans--\n",
    "The correct extension for a Python source code file is \".py\".\n",
    "When you save a Python script or program, you should give it a name that reflects its purpose and end the name with the \".py\" extension."
   ]
  },
  {
   "cell_type": "markdown",
   "id": "90f63790-1114-4694-a865-511578a71e9c",
   "metadata": {},
   "source": [
    "5. is python code  compiled or interpreted\n",
    "Ans-- \n",
    "Python code is interpreted, which means that the Python interpreter reads and executes the code directly, one statement at a time, without first converting it to a lower-level form. When you run a Python program, the interpreter reads the source code and executes it line by line.\n",
    "\n",
    "This is in contrast to compiled languages, such as C or C++, where the source code is translated into machine code that can be executed directly by the computer's processor. In a compiled language, you typically have to go through a separate compilation step before you can run the program.\n",
    "\n",
    "While Python is an interpreted language, it does make use of a form of compilation in the background. When you import a module or package in Python, the interpreter compiles the module's source code into bytecode, which can then be executed more quickly. However, this compilation is done automatically and transparently by the interpreter, so you don't need to worry about it when writing Python code."
   ]
  },
  {
   "cell_type": "markdown",
   "id": "e12ce20d-a504-4364-bc76-66d656d37c5b",
   "metadata": {},
   "source": [
    "6. name a few blocks of code used to define in python language \n",
    "Ans-- \n",
    "1. Conditional statements: Code blocks used in if-else statements:\n",
    "if x > 0:\n",
    "    print(\"x is positive\")\n",
    "else:\n",
    "    print(\"x is not positive\")\n",
    "\n",
    "2. Loops: Code blocks used in for and while loops:\n",
    " for i in range(10):\n",
    "    print(i)\n",
    "\n",
    "while x < 10:\n",
    "    print(x)\n",
    "    x += 1\n",
    "3. Functions: Code blocks used to define functions:\n",
    "def add(x, y):\n",
    "    result = x + y\n",
    "    return result\n"
   ]
  },
  {
   "cell_type": "markdown",
   "id": "9fa350a7-14a9-43d7-8ffe-832e8661114e",
   "metadata": {},
   "source": [
    "7. state character used to give single line comment in python\n",
    "Ans--\n",
    "In Python, you can create a single-line comment by using the hash symbol (\"#\")."
   ]
  },
  {
   "cell_type": "markdown",
   "id": "a45ef87e-ffa9-4c69-8c40-08cb5ab8e6ee",
   "metadata": {},
   "source": [
    "8. mention function which can help us to find the version of python that we are currently working on\n",
    "Ans--\n",
    "you can use sys model in python\n",
    "\n",
    "import sys\n",
    "\n",
    "print(\"Python version:\")\n",
    "print(sys.version)\n"
   ]
  },
  {
   "cell_type": "markdown",
   "id": "3a74d120-08c8-4e6c-a68f-74624789680b",
   "metadata": {},
   "source": [
    "9. python support the creation of anonymous functions at runtime using construct called _______\n",
    "Ans--\n",
    "Python supports the creation of anonymous functions using a construct called \"lambda\" functions.\n",
    "\n",
    "add = lambda x, y: x + y\n",
    "result = add(3, 4)\n",
    "print(result)  # Output: 7\n",
    "\n"
   ]
  },
  {
   "cell_type": "markdown",
   "id": "2a67cc0e-9f45-42cf-abde-4183f3072f1c",
   "metadata": {},
   "source": [
    "10. what does pip stand for python.\n",
    "Ans-- pip stands for \"preferred installer program\""
   ]
  },
  {
   "cell_type": "markdown",
   "id": "9bfb49ce-6266-4b3e-ab21-ebb24d64ae3e",
   "metadata": {},
   "source": [
    "11. mention few in built functions in python.\n",
    "Ans-- \n",
    "Python comes with a large number of built-in functions that provide useful functionality for common tasks. Here are a few examples of some commonly used built-in functions in Python:\n",
    "-- print()\n",
    "   Id()\n",
    "   input()\n",
    "   len()\n",
    "   range()"
   ]
  },
  {
   "cell_type": "markdown",
   "id": "ca371901-14a0-4b4b-827b-25f92702681c",
   "metadata": {},
   "source": [
    "12. what is the maximum possible length of an identifier in python\n",
    "Ans-- \n",
    "In Python, the maximum length of an identifier is not explicitly defined. However, according to the Python documentation, it is recommended to keep identifiers to a reasonable length and to use names that are meaningful and describe the purpose of the variable, function, or class they represent.\n",
    "\n",
    "Practically, the length of an identifier in Python is limited by the available memory of the system. Very long identifiers can be difficult to read and make code harder to maintain, so it is generally recommended to use descriptive but concise names for variables, functions, and classes."
   ]
  },
  {
   "cell_type": "markdown",
   "id": "1760ade4-019e-49c6-a438-5e7e0d2f69ee",
   "metadata": {},
   "source": [
    "13. what are the benifits of using python\n",
    "Ans-- \n",
    "There are many benefits to using Python, which is why it has become such a popular programming language in recent years. Here are some of the key advantages of using Python:\n",
    "\n",
    "Readability: Python has a simple, easy-to-read syntax that makes it easier to understand and maintain code. This makes it a popular language for beginners and experts alike.\n",
    "\n",
    "Versatility: Python is a versatile language that can be used for a wide range of applications, from web development to scientific computing, data analysis, artificial intelligence, and more.\n",
    "\n",
    "Large Standard Library: Python has a large standard library that provides a wide range of tools and modules for various programming tasks, including file handling, network programming, database access, and more. This means that you can accomplish a lot with Python without having to write a lot of code.\n",
    "\n",
    "Third-party Libraries: In addition to the standard library, Python has a large and active community that develops and maintains thousands of third-party libraries and frameworks that can be used to extend Python's capabilities.\n",
    "\n",
    "Cross-platform Compatibility: Python is a cross-platform language, which means that code written on one platform (such as Windows) can be run on another platform (such as Linux) without modification. This makes it easier to write and deploy code across multiple environments.\n",
    "\n",
    "Interpreted Language: Python is an interpreted language, which means that it can be executed directly without the need for compilation. This can make development faster and more efficient, since you can test and debug code quickly.\n",
    "\n",
    "Open Source: Python is an open source language, which means that it is free to use, distribute, and modify. This has helped to foster a large and active community of developers who contribute to the language and its ecosystem."
   ]
  },
  {
   "cell_type": "markdown",
   "id": "05e678ce-b4e4-4647-acd2-82e93e12a260",
   "metadata": {},
   "source": [
    "14. how is memory managed in python.\n",
    "Ans--\n",
    "Memory management in Python is handled automatically by the language itself through a technique known as \"garbage collection\". Garbage collection is the process by which the Python interpreter automatically frees up memory that is no longer being used by the program.\n",
    "\n",
    "In Python, memory is managed through a system of reference counting. Each object in memory has a reference count, which keeps track of how many variables or data structures are pointing to it. When an object's reference count drops to zero, the object is no longer being used and is automatically deleted by the garbage collector.\n",
    "\n",
    "Python also includes a cyclic garbage collector that can detect and remove circular references, which occur when two or more objects have references to each other in a way that prevents them from being freed by reference counting alone.\n",
    "\n",
    "In addition to garbage collection, Python also provides a way to manually manage memory through the use of \"context managers\" and the \"with\" statement. Context managers allow you to allocate and deallocate resources in a safe and reliable way, and can be used to manage things like file handles, network connections, and database connections.\n",
    "\n",
    "Overall, Python's automatic memory management system makes it easier to write code that is both efficient and safe, while minimizing the risk of memory leaks and other issues that can arise from manual memory management."
   ]
  },
  {
   "cell_type": "markdown",
   "id": "98f8b287-16fd-46c1-8bba-b3c4a4954d4b",
   "metadata": {},
   "source": [
    "15.how to install python on windows and set path variable \n",
    "Ans--\n",
    "1.Download the latest version of Python from the official Python website: https://www.python.org/downloads/windows/\n",
    "\n",
    "2.Run the installer and choose the \"Add Python to PATH\" option during the installation process.\n",
    "\n",
    "3.Follow the prompts to complete the installation.\n",
    "\n",
    "4.Once Python is installed, open the Start menu and search for \"Environment Variables\".\n",
    "\n",
    "5.Click on \"Edit the system environment variables\".\n",
    "\n",
    "6.Click the \"Environment Variables\" button in the System Properties dialog box.\n",
    "\n",
    "7.Under \"System variables\", scroll down to find the \"Path\" variable and click \"Edit\".\n",
    "\n",
    "8.Add the path to your Python installation directory (typically \"C:\\PythonXX;C:\\PythonXX\\Scripts\", where \"XX\" is the version number) to the end of the \"Variable value\" field, separated by a semicolon.\n",
    "\n",
    "9.Click \"OK\" to close all the windows and save the changes.\n",
    "\n",
    "10.Open a command prompt and type \"python\" to confirm that Python is now installed and the path variable has been set correctly."
   ]
  },
  {
   "cell_type": "markdown",
   "id": "5d9fb071-851f-492e-8004-2f14458d02f3",
   "metadata": {},
   "source": [
    "16. is identation required in python\n",
    "Ans--\n",
    "yes"
   ]
  }
 ],
 "metadata": {
  "kernelspec": {
   "display_name": "Python 3 (ipykernel)",
   "language": "python",
   "name": "python3"
  },
  "language_info": {
   "codemirror_mode": {
    "name": "ipython",
    "version": 3
   },
   "file_extension": ".py",
   "mimetype": "text/x-python",
   "name": "python",
   "nbconvert_exporter": "python",
   "pygments_lexer": "ipython3",
   "version": "3.10.8"
  }
 },
 "nbformat": 4,
 "nbformat_minor": 5
}
