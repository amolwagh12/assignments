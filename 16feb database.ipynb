{
 "cells": [
  {
   "cell_type": "markdown",
   "id": "1c92a460-50bb-44cb-952e-09d41ec59d25",
   "metadata": {},
   "source": [
    "1. What is a database? Differentiate between SQL and NoSQL databases\n",
    "Ans \n",
    "A database is an organized collection of data that can be easily accessed, managed, and updated. It is designed to store, retrieve, and manage large amounts of data efficiently. A database typically contains one or more tables, each of which is made up of columns and rows. Each column represents a different type of data, and each row represents a single record in the database.\n",
    "\n",
    "SQL (Structured Query Language) and NoSQL (Not Only SQL) are two types of databases that differ in their data models, structures, and querying languages.\n",
    "\n",
    "SQL databases are based on a relational data model, which means that data is stored in tables with defined relationships between them. SQL databases use SQL as the querying language, which is a standard language for managing relational databases. SQL databases are known for their strong data consistency, transaction support, and ACID (Atomicity, Consistency, Isolation, Durability) compliance, making them a good choice for applications that require complex transactions and data consistency.\n",
    "\n",
    "NoSQL databases, on the other hand, use a non-relational data model, which means that data is stored in a flexible and dynamic format, such as JSON, BSON, or XML documents. NoSQL databases typically don't use SQL as their querying language, but rather have their own APIs and query languages specific to the database. NoSQL databases are designed for scalability, availability, and high performance, making them a good choice for applications that need to handle large amounts of unstructured or semi-structured data, such as social media platforms, e-commerce websites, and IoT devices.\n",
    "\n",
    "In summary, SQL databases are based on a fixed schema and are better suited for applications that require strong consistency and complex transactions, while NoSQL databases are designed for flexibility, scalability, and high performance and are better suited for applications that handle large amounts of unstructured or semi-structured data."
   ]
  },
  {
   "cell_type": "markdown",
   "id": "5e814693-7c1e-4bd1-9a5b-0ce019f6eaaf",
   "metadata": {},
   "source": [
    "2. What is DDL? Explain why CREATE, DROP, ALTER, and TRUNCATE are used with an example\n",
    "Ans \n",
    "DDL stands for Data Definition Language and it is a set of SQL commands used to define and manage the structure of a database. DDL statements are used to create, modify, and delete database objects such as tables, indexes, and constraints.\n",
    "\n",
    "The following are the commonly used DDL commands in SQL:\n",
    "\n",
    "CREATE: This command is used to create new database objects such as tables, indexes, views, and stored procedures. For example, the following command creates a new table called students with columns id, name, and age:\n",
    "CREATE TABLE students (\n",
    "  id INT PRIMARY KEY,\n",
    "  name VARCHAR(50),\n",
    "  age INT\n",
    ");\n",
    "DROP: This command is used to delete existing database objects. For example, the following command deletes the students table:\n",
    "EXAMPLE--\n",
    "DROP TABLE students;\n",
    "\n",
    "ALTER: This command is used to modify the structure of an existing database object. For example, the following command adds a new column called gender to the students table:\n",
    "EXAMPLE=\n",
    "ALTER TABLE students\n",
    "ADD gender VARCHAR(10);\n",
    "\n",
    "TRUNCATE: This command is used to delete all rows from a table without deleting the table structure itself. For example, the following command deletes all rows from the students table:\n",
    "\n",
    "TRUNCATE TABLE students;\n"
   ]
  },
  {
   "cell_type": "markdown",
   "id": "c3cabcba-baab-40a5-869f-ada548faec7d",
   "metadata": {},
   "source": [
    "3.  What is DML? Explain INSERT, UPDATE, and DELETE with an example\n",
    "Ans\n",
    "DML stands for Data Manipulation Language, and it is a subset of SQL used to manipulate data in a database. DML is used to insert, update, and delete data from a database table.\n",
    "\n",
    "The following are the commonly used DML commands in SQL:\n",
    "\n",
    "\n",
    "INSERT: This command is used to insert new rows into a table. For example, the following command inserts a new row into the students table:\n",
    "INSERT INTO students (id, name, age)\n",
    "VALUES (1, 'John Doe', 20);\n",
    "\n",
    "UPDATE: This command is used to modify existing rows in a table. For example, the following command updates the age column of the students table for the row with an id of 1:\n",
    "UPDATE students\n",
    "SET age = 21\n",
    "WHERE id = 1;\n",
    "\n",
    "DELETE: This command is used to delete rows from a table. For example, the following command deletes the row from the students table where the id is 1:'\n",
    "DELETE FROM students\n",
    "WHERE id = 1;\n"
   ]
  },
  {
   "cell_type": "markdown",
   "id": "99635cbd-5ba3-45cd-9751-72f833d89460",
   "metadata": {
    "tags": []
   },
   "source": [
    "4.  What is DQL? Explain SELECT with an example\n",
    "Ans \n",
    "DQL stands for Data Query Language, and it is a subset of SQL used to retrieve data from a database. DQL is used to search, filter, and sort data in a database, and the most commonly used DQL statement is SELECT.\n",
    "\n",
    "SELECT statement is used to retrieve data from one or more tables in a database. The basic syntax of the SELECT statement is as follows:\n",
    "SELECT column1, column2, ...\n",
    "FROM table_name;\n"
   ]
  },
  {
   "cell_type": "markdown",
   "id": "84c91834-9f63-4099-b2b4-9d8b19096a9e",
   "metadata": {},
   "source": [
    "5.  Explain Primary Key and Foreign Key\n",
    "Ans \n",
    "In a relational database, a primary key and a foreign key are used to establish a relationship between two tables.\n",
    "\n",
    "A primary key is a column or set of columns in a table that uniquely identifies each row in that table. A primary key cannot contain NULL values, and each value in the primary key must be unique. Primary keys are used to ensure the integrity of the data in a table, and they are often used as the basis for relationships with other tables in the database. For example, in a table of customers, the primary key might be a column that contains a unique customer ID for each customer.\n",
    "\n",
    "A foreign key, on the other hand, is a column or set of columns in one table that refers to the primary key of another table. The purpose of a foreign key is to create a relationship between two tables by enforcing referential integrity. This means that the values in the foreign key column must match the values in the primary key column of the related table, or be NULL. For example, in a table of orders, there might be a foreign key that refers to the primary key in the customers table, indicating which customer placed each order.\n",
    "\n",
    "By using primary keys and foreign keys, you can establish relationships between tables in a database and ensure the accuracy and consistency of the data. When a foreign key is used to reference a primary key, it ensures that data is always consistent and that each record in the child table has a valid corresponding record in the parent table."
   ]
  },
  {
   "cell_type": "markdown",
   "id": "701afd89-1126-475e-b416-3c3e7e596a44",
   "metadata": {},
   "source": [
    "6.  Write a python code to connect MySQL to python. Explain the cursor() and execute() method\n",
    "Ans \n",
    "import mysql.connector\n",
    "# import mysql.connector\n",
    "#create user 'user'@'%' identified by 'password'\n",
    "mydb = mysql.connector.connect(\n",
    "  host=\"localhost\",\n",
    "  user=\"abc\",\n",
    "  password=\"password\"\n",
    ")\n",
    "print(mydb)\n",
    "mycursor = mydb.cursor()\n",
    "mycursor.execute(\"SHOW DATABASES\")\n",
    "for x in mycursor:\n"
   ]
  },
  {
   "cell_type": "markdown",
   "id": "a9179e3e-d323-481f-abbf-21c346b3f6dd",
   "metadata": {},
   "source": [
    "7. Give the order of execution of SQL clauses in an SQL query\n",
    "Ans \n",
    "In a SQL query, the clauses are executed in the following order:\n",
    "\n",
    "FROM: This clause identifies the tables from which to retrieve data.\n",
    "\n",
    "WHERE: This clause filters the data based on certain conditions.\n",
    "\n",
    "GROUP BY: This clause groups the data based on one or more columns.\n",
    "\n",
    "HAVING: This clause filters the grouped data based on certain conditions.\n",
    "\n",
    "SELECT: This clause retrieves the data from the specified columns.\n",
    "\n",
    "ORDER BY: This clause sorts the data based on one or more columns.\n",
    "\n",
    "LIMIT/OFFSET: These clauses limit the number of rows returned or skip a specified number of rows."
   ]
  }
 ],
 "metadata": {
  "kernelspec": {
   "display_name": "Python 3 (ipykernel)",
   "language": "python",
   "name": "python3"
  },
  "language_info": {
   "codemirror_mode": {
    "name": "ipython",
    "version": 3
   },
   "file_extension": ".py",
   "mimetype": "text/x-python",
   "name": "python",
   "nbconvert_exporter": "python",
   "pygments_lexer": "ipython3",
   "version": "3.10.8"
  }
 },
 "nbformat": 4,
 "nbformat_minor": 5
}
